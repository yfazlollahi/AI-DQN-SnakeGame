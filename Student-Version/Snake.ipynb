{
 "cells": [
  {
   "cell_type": "code",
   "execution_count": 1,
   "metadata": {},
   "outputs": [],
   "source": [
    "import torch\n",
    "import torch.nn as nn\n",
    "\n",
    "import numpy as np\n",
    "\n",
    "torch.manual_seed(0)\n",
    "np.random.seed(0)"
   ]
  },
  {
   "cell_type": "code",
   "execution_count": 2,
   "metadata": {
    "ExecuteTime": {
     "end_time": "2023-12-17T23:23:58.767817Z",
     "start_time": "2023-12-17T23:23:55.215327Z"
    }
   },
   "outputs": [],
   "source": [
    "from model import QNetwork, get_network_input\n",
    "from Game import GameEnvironment\n",
    "from collections import deque\n",
    "from replay_buffer import ReplayMemory\n",
    "import time\n",
    "\n",
    "# TODO: Create an instance for model with input_dim = 10, hidden_dim = 20, output_dim = 5\n",
    "\n",
    "model = QNetwork(input_dim=10, hidden_dim=20, output_dim=5)\n",
    "epsilon = 0.1\n",
    "grid_size = 15 \n",
    "GAMMA = 0.9\n",
    "\n",
    "board = GameEnvironment(grid_size, nothing=0, dead=-1, apple=1)\n",
    "memory = ReplayMemory(1000)  \n",
    "optimizer = torch.optim.Adam(model.parameters(), lr = 1e-5)"
   ]
  },
  {
   "cell_type": "code",
   "execution_count": 7,
   "metadata": {
    "ExecuteTime": {
     "end_time": "2023-12-17T22:47:27.988868Z",
     "start_time": "2023-12-17T22:47:27.887184Z"
    }
   },
   "outputs": [],
   "source": [
    "def run_episode(num_games):\n",
    "    run = True\n",
    "    games_played = 0\n",
    "    total_reward = 0    \n",
    "    episode_games = 0\n",
    "    snake_len_array = []\n",
    "    \n",
    "    while run:\n",
    "        # TODO: Get state\n",
    "        state = get_network_input(board.snake, board.apple)\n",
    "        \n",
    "        action_0 = model(state)\n",
    "        \n",
    "        # TODO: Compare a random number with epsilon and find out the next action\n",
    "        if np.random.rand() < epsilon:\n",
    "            next_action = np.random.choice([0, 1, 2, 3])\n",
    "        else:\n",
    "            next_action = torch.argmax(action_0)\n",
    "\n",
    "        reward, done, len_of_snake = board.update_board_state(next_action)\n",
    "        \n",
    "        # TODO: Get next state\n",
    "        next_state = get_network_input(board.snake, board.apple)\n",
    "        \n",
    "        memory.push(state, next_action, reward, next_state, done)\n",
    "        \n",
    "        # TODO: update total reward\n",
    "        total_reward += reward\n",
    "        \n",
    "        episode_games += 1\n",
    "        \n",
    "        if board.game_over:\n",
    "            games_played += 1\n",
    "            snake_len_array.append(len_of_snake)\n",
    "            board.reset_game()\n",
    "            \n",
    "            if num_games == games_played:\n",
    "                run = False\n",
    "                \n",
    "    avg_len_of_snake = np.mean(snake_len_array)\n",
    "    max_len_of_snake = np.max(snake_len_array)\n",
    "    return total_reward, avg_len_of_snake, max_len_of_snake"
   ]
  },
  {
   "cell_type": "code",
   "execution_count": 10,
   "metadata": {
    "ExecuteTime": {
     "end_time": "2023-12-17T22:47:30.466809Z",
     "start_time": "2023-12-17T22:47:30.364775Z"
    }
   },
   "outputs": [],
   "source": [
    "MSE = nn.MSELoss()\n",
    "def learn(num_updates, batch_size):\n",
    "    \n",
    "    total_loss = 0\n",
    "    \n",
    "    for i in range(num_updates):\n",
    "\n",
    "        optimizer.zero_grad()\n",
    "        sample = memory.sample(batch_size)\n",
    "            \n",
    "        states, actions, rewards, next_states, dones = sample\n",
    "        states = torch.cat([x.unsqueeze(0) for x in states], dim=0) \n",
    "        actions = torch.LongTensor(actions) \n",
    "        rewards = torch.FloatTensor(rewards) \n",
    "        next_states = torch.cat([x.unsqueeze(0) for x in next_states]) \n",
    "        dones = torch.FloatTensor(dones) \n",
    "        \n",
    "        # TODO: Get Q values for current state\n",
    "        q_local = model.forward(states)\n",
    "        \n",
    "        # TODO: Get Q values for next state\n",
    "        next_q_value = model.forward(next_states)\n",
    "\n",
    "        Q_expected  = q_local.gather(1, actions.unsqueeze(0).transpose(0,1)).transpose(0,1).squeeze(0)  \n",
    "        \n",
    "        Q_targets_next = torch.max(next_q_value, 1)[0]*(torch.ones(dones.size()) - dones)\n",
    "        \n",
    "        # TODO: Calculate Q targets for current state\n",
    "        Q_targets  = rewards + GAMMA * Q_targets_next\n",
    "        \n",
    "        loss = MSE(Q_expected, Q_targets)\n",
    "        \n",
    "        total_loss += loss\n",
    "        loss.backward()\n",
    "        optimizer.step()\n",
    "        \n",
    "    return total_loss"
   ]
  },
  {
   "cell_type": "code",
   "execution_count": 11,
   "metadata": {
    "ExecuteTime": {
     "end_time": "2023-12-17T23:15:36.671532Z",
     "start_time": "2023-12-17T22:53:57.758768Z"
    }
   },
   "outputs": [
    {
     "name": "stdout",
     "output_type": "stream",
     "text": [
      "Ep.:    100, Loss: 1.932, Avg.Score: -28.00, Avg.LenOfSnake: 5.07, Max.LenOfSnake:  6.00 Time: 00:01:44 \n",
      "Ep.:    200, Loss: 1.631, Avg.Score: -29.00, Avg.LenOfSnake: 5.03, Max.LenOfSnake:  6.00 Time: 00:03:33 \n",
      "Ep.:    300, Loss: 1.215, Avg.Score: -30.00, Avg.LenOfSnake: 5.00, Max.LenOfSnake:  5.00 Time: 00:05:24 \n",
      "Ep.:    400, Loss: 2.366, Avg.Score: -19.00, Avg.LenOfSnake: 5.37, Max.LenOfSnake:  8.00 Time: 00:07:17 \n",
      "Ep.:    500, Loss: 2.029, Avg.Score: -17.00, Avg.LenOfSnake: 5.43, Max.LenOfSnake:  7.00 Time: 00:09:28 \n",
      "Ep.:    600, Loss: 2.039, Avg.Score: -24.00, Avg.LenOfSnake: 5.20, Max.LenOfSnake:  6.00 Time: 00:11:37 \n",
      "Ep.:    700, Loss: 2.913, Avg.Score: -18.00, Avg.LenOfSnake: 5.40, Max.LenOfSnake:  7.00 Time: 00:13:45 \n",
      "Ep.:    800, Loss: 2.249, Avg.Score: -18.00, Avg.LenOfSnake: 5.40, Max.LenOfSnake:  7.00 Time: 00:16:06 \n",
      "Ep.:    900, Loss: 2.233, Avg.Score: -19.00, Avg.LenOfSnake: 5.37, Max.LenOfSnake:  9.00 Time: 00:18:33 \n",
      "Ep.:   1000, Loss: 3.626, Avg.Score: -14.00, Avg.LenOfSnake: 5.53, Max.LenOfSnake:  9.00 Time: 00:20:58 \n",
      "Ep.:   1100, Loss: 2.503, Avg.Score: -10.00, Avg.LenOfSnake: 5.67, Max.LenOfSnake:  8.00 Time: 00:23:06 \n",
      "Ep.:   1200, Loss: 4.562, Avg.Score: -4.00, Avg.LenOfSnake: 5.87, Max.LenOfSnake:  10.00 Time: 00:25:08 \n",
      "Ep.:   1300, Loss: 3.600, Avg.Score: -1.00, Avg.LenOfSnake: 5.97, Max.LenOfSnake:  9.00 Time: 00:27:04 \n",
      "Ep.:   1400, Loss: 4.969, Avg.Score: -7.00, Avg.LenOfSnake: 5.77, Max.LenOfSnake:  9.00 Time: 00:28:57 \n",
      "Ep.:   1500, Loss: 4.282, Avg.Score: 17.00, Avg.LenOfSnake: 6.57, Max.LenOfSnake:  9.00 Time: 00:30:49 \n",
      "Ep.:   1600, Loss: 5.066, Avg.Score: 43.00, Avg.LenOfSnake: 7.43, Max.LenOfSnake:  12.00 Time: 00:32:50 \n",
      "Ep.:   1700, Loss: 5.214, Avg.Score: 33.00, Avg.LenOfSnake: 7.10, Max.LenOfSnake:  11.00 Time: 00:34:53 \n",
      "Ep.:   1800, Loss: 4.149, Avg.Score: 9.00, Avg.LenOfSnake: 6.30, Max.LenOfSnake:  10.00 Time: 00:36:53 \n",
      "Ep.:   1900, Loss: 4.863, Avg.Score: 5.00, Avg.LenOfSnake: 6.17, Max.LenOfSnake:  9.00 Time: 00:38:43 \n",
      "Ep.:   2000, Loss: 6.027, Avg.Score: -10.00, Avg.LenOfSnake: 5.67, Max.LenOfSnake:  9.00 Time: 00:40:27 \n",
      "Ep.:   2100, Loss: 5.071, Avg.Score: 36.00, Avg.LenOfSnake: 7.20, Max.LenOfSnake:  14.00 Time: 00:42:07 \n",
      "Ep.:   2200, Loss: 5.592, Avg.Score: 16.00, Avg.LenOfSnake: 6.53, Max.LenOfSnake:  13.00 Time: 00:43:46 \n",
      "Ep.:   2300, Loss: 4.288, Avg.Score: 32.00, Avg.LenOfSnake: 7.07, Max.LenOfSnake:  11.00 Time: 00:45:31 \n",
      "Ep.:   2400, Loss: 4.284, Avg.Score: 0.00, Avg.LenOfSnake: 6.00, Max.LenOfSnake:  10.00 Time: 00:47:16 \n",
      "Ep.:   2500, Loss: 6.083, Avg.Score: 54.00, Avg.LenOfSnake: 7.80, Max.LenOfSnake:  15.00 Time: 00:49:05 \n",
      "Ep.:   2600, Loss: 5.146, Avg.Score: 69.00, Avg.LenOfSnake: 8.30, Max.LenOfSnake:  16.00 Time: 00:51:00 \n",
      "Ep.:   2700, Loss: 5.075, Avg.Score: 67.00, Avg.LenOfSnake: 8.23, Max.LenOfSnake:  15.00 Time: 00:52:59 \n",
      "Ep.:   2800, Loss: 5.688, Avg.Score: 59.00, Avg.LenOfSnake: 7.97, Max.LenOfSnake:  15.00 Time: 00:55:05 \n",
      "Ep.:   2900, Loss: 6.072, Avg.Score: 58.00, Avg.LenOfSnake: 7.93, Max.LenOfSnake:  16.00 Time: 00:57:16 \n",
      "Ep.:   3000, Loss: 4.782, Avg.Score: 69.00, Avg.LenOfSnake: 8.30, Max.LenOfSnake:  16.00 Time: 00:59:35 \n"
     ]
    }
   ],
   "source": [
    "num_episodes = 3000 \n",
    "num_updates = 200 \n",
    "print_every = 100\n",
    "games_in_episode = 30\n",
    "batch_size = 20\n",
    "\n",
    "\n",
    "def train():\n",
    "    \n",
    "    scores_deque = deque(maxlen=100)\n",
    "    scores_array = []\n",
    "    avg_scores_array = []    \n",
    "    \n",
    "    avg_len_array = []\n",
    "    avg_max_len_array = []\n",
    "    \n",
    "    time_start = time.time()\n",
    "    \n",
    "    \n",
    "    for i_episode in range(num_episodes+1):\n",
    "        \n",
    "        # TODO: Run an episode\n",
    "        score, avg_len, max_len = run_episode(games_in_episode)\n",
    "        \n",
    "        scores_deque.append(score)\n",
    "        scores_array.append(score)\n",
    "        avg_len_array.append(avg_len)\n",
    "        avg_max_len_array.append(max_len)\n",
    "        \n",
    "        avg_score = np.mean(scores_deque)\n",
    "        avg_scores_array.append(avg_score)\n",
    "        \n",
    "        # TODO: Learn from the episode\n",
    "        total_loss = learn(num_updates, batch_size)\n",
    "        \n",
    "        dt = (int)(time.time() - time_start)\n",
    "        \n",
    "        if i_episode % print_every == 0 and i_episode > 0:\n",
    "            print('Ep.: {:6}, Loss: {:.3f}, Avg.Score: {:.2f}, Avg.LenOfSnake: {:.2f}, Max.LenOfSnake:  {:.2f} Time: {:02}:{:02}:{:02} '.\\\n",
    "                  format(i_episode, total_loss, score, avg_len, max_len, dt//3600, dt%3600//60, dt%60))\n",
    "            \n",
    "        memory.truncate()\n",
    "        \n",
    "        if i_episode % 250 == 0 and i_episode > 0:   \n",
    "            torch.save(model.state_dict(), './model/Snake_{}'.format(i_episode))\n",
    "            \n",
    "    return scores_array, avg_scores_array, avg_len_array, avg_max_len_array    \n",
    "\n",
    "# TODO: Train the model\n",
    "scores, avg_scores, avg_len_of_snake, max_len_of_snake = train()"
   ]
  },
  {
   "cell_type": "code",
   "execution_count": 30,
   "metadata": {
    "ExecuteTime": {
     "end_time": "2023-12-17T23:20:09.052807Z",
     "start_time": "2023-12-17T23:20:08.500986Z"
    }
   },
   "outputs": [
    {
     "ename": "NameError",
     "evalue": "name 'scores' is not defined",
     "output_type": "error",
     "traceback": [
      "\u001b[1;31m---------------------------------------------------------------------------\u001b[0m",
      "\u001b[1;31mNameError\u001b[0m                                 Traceback (most recent call last)",
      "Input \u001b[1;32mIn [30]\u001b[0m, in \u001b[0;36m<cell line: 4>\u001b[1;34m()\u001b[0m\n\u001b[0;32m      1\u001b[0m \u001b[38;5;28;01mimport\u001b[39;00m \u001b[38;5;21;01mmatplotlib\u001b[39;00m\u001b[38;5;21;01m.\u001b[39;00m\u001b[38;5;21;01mpyplot\u001b[39;00m \u001b[38;5;28;01mas\u001b[39;00m \u001b[38;5;21;01mplt\u001b[39;00m\n\u001b[0;32m      2\u001b[0m get_ipython()\u001b[38;5;241m.\u001b[39mrun_line_magic(\u001b[38;5;124m'\u001b[39m\u001b[38;5;124mmatplotlib\u001b[39m\u001b[38;5;124m'\u001b[39m, \u001b[38;5;124m'\u001b[39m\u001b[38;5;124minline\u001b[39m\u001b[38;5;124m'\u001b[39m)\n\u001b[1;32m----> 4\u001b[0m \u001b[38;5;28mprint\u001b[39m(\u001b[38;5;124m'\u001b[39m\u001b[38;5;124mlength of scores: \u001b[39m\u001b[38;5;124m'\u001b[39m, \u001b[38;5;28mlen\u001b[39m(\u001b[43mscores\u001b[49m), \u001b[38;5;124m'\u001b[39m\u001b[38;5;124m, len of avg_scores: \u001b[39m\u001b[38;5;124m'\u001b[39m, \u001b[38;5;28mlen\u001b[39m(avg_scores))\n\u001b[0;32m      6\u001b[0m fig \u001b[38;5;241m=\u001b[39m plt\u001b[38;5;241m.\u001b[39mfigure()\n\u001b[0;32m      7\u001b[0m ax \u001b[38;5;241m=\u001b[39m fig\u001b[38;5;241m.\u001b[39madd_subplot(\u001b[38;5;241m111\u001b[39m)\n",
      "\u001b[1;31mNameError\u001b[0m: name 'scores' is not defined"
     ]
    }
   ],
   "source": [
    "import matplotlib.pyplot as plt\n",
    "%matplotlib inline\n",
    "\n",
    "print('length of scores: ', len(scores), ', len of avg_scores: ', len(avg_scores))\n",
    "\n",
    "fig = plt.figure()\n",
    "ax = fig.add_subplot(111)\n",
    "plt.plot(np.arange(1, len(scores)+1), scores, label=\"Score\")\n",
    "plt.plot(np.arange(1, len(avg_scores)+1), avg_scores, label=\"Avg score on 100 episodes\")\n",
    "plt.legend(bbox_to_anchor=(1.05, 1)) \n",
    "plt.ylabel('Score')\n",
    "plt.xlabel('Episodes #')\n",
    "plt.show()"
   ]
  },
  {
   "cell_type": "code",
   "execution_count": null,
   "metadata": {
    "ExecuteTime": {
     "end_time": "2023-12-17T23:20:19.810286Z",
     "start_time": "2023-12-17T23:20:19.414789Z"
    }
   },
   "outputs": [],
   "source": [
    "ax1 = fig.add_subplot(121)\n",
    "plt.plot(np.arange(1, len(avg_len_of_snake)+1), avg_len_of_snake, label=\"Avg Len of Snake\")\n",
    "plt.plot(np.arange(1, len(max_len_of_snake)+1), max_len_of_snake, label=\"Max Len of Snake\")\n",
    "plt.legend(bbox_to_anchor=(1.05, 1)) \n",
    "plt.ylabel('Length of Snake')\n",
    "plt.xlabel('Episodes #')\n",
    "plt.show()"
   ]
  }
 ],
 "metadata": {
  "kernelspec": {
   "display_name": "Python 3 (ipykernel)",
   "language": "python",
   "name": "python3"
  },
  "language_info": {
   "codemirror_mode": {
    "name": "ipython",
    "version": 3
   },
   "file_extension": ".py",
   "mimetype": "text/x-python",
   "name": "python",
   "nbconvert_exporter": "python",
   "pygments_lexer": "ipython3",
   "version": "3.10.5"
  }
 },
 "nbformat": 4,
 "nbformat_minor": 2
}
