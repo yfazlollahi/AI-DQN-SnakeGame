{
 "cells": [
  {
   "cell_type": "code",
   "execution_count": 1,
   "metadata": {
    "ExecuteTime": {
     "end_time": "2023-12-18T09:28:00.922555Z",
     "start_time": "2023-12-18T09:28:00.513158Z"
    }
   },
   "outputs": [
    {
     "name": "stdout",
     "output_type": "stream",
     "text": [
      "pygame 2.5.2 (SDL 2.28.3, Python 3.10.5)\n",
      "Hello from the pygame community. https://www.pygame.org/contribute.html\n"
     ]
    },
    {
     "ename": "ModuleNotFoundError",
     "evalue": "No module named 'torch'",
     "output_type": "error",
     "traceback": [
      "\u001b[1;31m---------------------------------------------------------------------------\u001b[0m",
      "\u001b[1;31mModuleNotFoundError\u001b[0m                       Traceback (most recent call last)",
      "Input \u001b[1;32mIn [1]\u001b[0m, in \u001b[0;36m<cell line: 4>\u001b[1;34m()\u001b[0m\n\u001b[0;32m      2\u001b[0m \u001b[38;5;28;01mimport\u001b[39;00m \u001b[38;5;21;01mnumpy\u001b[39;00m \u001b[38;5;28;01mas\u001b[39;00m \u001b[38;5;21;01mnp\u001b[39;00m\n\u001b[0;32m      3\u001b[0m \u001b[38;5;28;01mfrom\u001b[39;00m \u001b[38;5;21;01mGame\u001b[39;00m \u001b[38;5;28;01mimport\u001b[39;00m GameEnvironment\n\u001b[1;32m----> 4\u001b[0m \u001b[38;5;28;01mfrom\u001b[39;00m \u001b[38;5;21;01mmodel\u001b[39;00m \u001b[38;5;28;01mimport\u001b[39;00m QNetwork, get_network_input\n\u001b[0;32m      5\u001b[0m \u001b[38;5;28;01mimport\u001b[39;00m \u001b[38;5;21;01mtorch\u001b[39;00m\n\u001b[0;32m      6\u001b[0m \u001b[38;5;28;01mimport\u001b[39;00m \u001b[38;5;21;01mcv2\u001b[39;00m\n",
      "File \u001b[1;32m~\\jupyter notebooks\\Bonus-Project-main\\Student-Version\\model.py:1\u001b[0m, in \u001b[0;36m<module>\u001b[1;34m\u001b[0m\n\u001b[1;32m----> 1\u001b[0m \u001b[38;5;28;01mimport\u001b[39;00m \u001b[38;5;21;01mtorch\u001b[39;00m\n\u001b[0;32m      2\u001b[0m \u001b[38;5;28;01mimport\u001b[39;00m \u001b[38;5;21;01mtorch\u001b[39;00m\u001b[38;5;21;01m.\u001b[39;00m\u001b[38;5;21;01mnn\u001b[39;00m \u001b[38;5;28;01mas\u001b[39;00m \u001b[38;5;21;01mnn\u001b[39;00m\n\u001b[0;32m      5\u001b[0m \u001b[38;5;28;01mclass\u001b[39;00m \u001b[38;5;21;01mQNetwork\u001b[39;00m(nn\u001b[38;5;241m.\u001b[39mModule):\n",
      "\u001b[1;31mModuleNotFoundError\u001b[0m: No module named 'torch'"
     ]
    }
   ],
   "source": [
    "import pygame\n",
    "import numpy as np\n",
    "from Game import GameEnvironment\n",
    "from model import QNetwork, get_network_input\n",
    "import torch\n",
    "import cv2\n",
    "\n",
    "grid_size = 23 \n",
    "framerate = 10\n",
    "block_size = 30 \n",
    "\n",
    "snake_name = 'Snake_3000'\n",
    "\n",
    "model = QNetwork(input_dim=10, hidden_dim=20, output_dim=5)\n",
    "model.load_state_dict(torch.load('./model/' + snake_name))\n",
    "\n",
    "board = GameEnvironment(grid_size, nothing=0, dead=-1, apple=1)\n",
    "window_width = grid_size * block_size * 2\n",
    "window_height = grid_size * block_size\n",
    "\n",
    "pygame.init()\n",
    "win = pygame.display.set_mode((window_width, window_height))\n",
    "pygame.display.set_caption(\"snake\")\n",
    "font = pygame.font.SysFont('Helvetica', 14)\n",
    "clock = pygame.time.Clock()\n",
    "\n",
    "VIDEO = []\n",
    "\n",
    "def draw_board(snake, apple):\n",
    "    win.fill((0,0,0))\n",
    "    for pos in snake.prev_pos:\n",
    "        pygame.draw.rect(win, (0,255,0), (pos[0]*block_size, pos[1]*block_size, block_size, block_size))\n",
    "    pygame.draw.rect(win, (255, 0, 0), (apple.pos[0]*block_size, apple.pos[1]*block_size, block_size, block_size))\n",
    "\n",
    "runGame = True\n",
    "\n",
    "prev_len_of_snake = 0\n",
    "\n",
    "while runGame:\n",
    "    clock.tick(framerate)\n",
    "    \n",
    "    state_0 = get_network_input(board.snake, board.apple)\n",
    "    state = model(state_0)\n",
    "    \n",
    "    action = torch.argmax(state)\n",
    "    \n",
    "    reward, done, len_of_snake = board.update_board_state(action)\n",
    "    draw_board(board.snake, board.apple)\n",
    "    \n",
    "    len_snake_text = font.render('          LEN OF SNAKE: ' + str(len_of_snake), False, (255, 255, 255))\n",
    "    prev_len_snake_text = font.render('          LEN OF PREVIOUS SNAKE: ' + str(prev_len_of_snake), False, (255, 255, 255))\n",
    "    \n",
    "    x_pos= int(0.75 * window_width)\n",
    "    win.blit(len_snake_text, (x_pos, 40))\n",
    "    win.blit(prev_len_snake_text, (x_pos, 80))\n",
    "        \n",
    "    VIDEO.append(pygame.image.tostring(win, 'RGB', False))     \n",
    "    \n",
    "    for event in pygame.event.get():\n",
    "        if event.type==pygame.KEYDOWN and event.key == pygame.K_ESCAPE:   \n",
    "            runGame = False\n",
    "            \n",
    "    keys = pygame.key.get_pressed()\n",
    "    if keys[pygame.K_r]:\n",
    "        paused = True\n",
    "        while paused:\n",
    "            clock.tick(10)\n",
    "            pygame.event.pump()\n",
    "            for event in pygame.event.get():\n",
    "                if event.type == pygame.KEYDOWN:\n",
    "                    paused = False\n",
    "    \n",
    "    pygame.display.update()\n",
    "    \n",
    "    if board.game_over:\n",
    "        prev_len_of_snake = len_of_snake\n",
    "        board.reset_game()\n",
    "\n",
    "fourcc = cv2.VideoWriter_fourcc(*'MPV4')\n",
    "output_name = 'output_' + snake_name + '.mp4'\n",
    "video_mp4 = cv2.VideoWriter(output_name,fourcc, 20.0, (window_width, window_height))        \n",
    "    \n",
    "for image in VIDEO:\n",
    "    \n",
    "    image = np.frombuffer(image, np.uint8).reshape(window_height, window_width, 3)\n",
    "    image = cv2.cvtColor(image, cv2.COLOR_RGBA2BGR)\n",
    "    video_mp4.write(image)\n",
    "\n",
    "cv2.destroyAllWindows()\n",
    "video_mp4.release()\n",
    "    \n",
    "pygame.quit()            "
   ]
  }
 ],
 "metadata": {
  "kernelspec": {
   "display_name": "Python 3 (ipykernel)",
   "language": "python",
   "name": "python3"
  },
  "language_info": {
   "codemirror_mode": {
    "name": "ipython",
    "version": 3
   },
   "file_extension": ".py",
   "mimetype": "text/x-python",
   "name": "python",
   "nbconvert_exporter": "python",
   "pygments_lexer": "ipython3",
   "version": "3.10.5"
  }
 },
 "nbformat": 4,
 "nbformat_minor": 2
}
