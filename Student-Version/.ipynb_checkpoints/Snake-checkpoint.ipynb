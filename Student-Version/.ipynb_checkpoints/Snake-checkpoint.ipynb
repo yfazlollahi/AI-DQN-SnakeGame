{
 "cells": [
  {
   "cell_type": "code",
   "execution_count": 1,
   "metadata": {},
   "outputs": [],
   "source": [
    "import torch\n",
    "import torch.nn as nn\n",
    "\n",
    "import numpy as np\n",
    "\n",
    "torch.manual_seed(0)\n",
    "np.random.seed(0)"
   ]
  },
  {
   "cell_type": "code",
   "execution_count": 2,
   "metadata": {
    "ExecuteTime": {
     "end_time": "2023-12-17T23:23:58.767817Z",
     "start_time": "2023-12-17T23:23:55.215327Z"
    }
   },
   "outputs": [],
   "source": [
    "from model import QNetwork, get_network_input\n",
    "from Game import GameEnvironment\n",
    "from collections import deque\n",
    "from replay_buffer import ReplayMemory\n",
    "import time\n",
    "\n",
    "# TODO: Create an instance for model with input_dim = 10, hidden_dim = 20, output_dim = 5\n",
    "\n",
    "model = QNetwork(input_dim=10, hidden_dim=20, output_dim=5)\n",
    "epsilon = 0.1\n",
    "grid_size = 15 \n",
    "GAMMA = 0.9\n",
    "\n",
    "board = GameEnvironment(grid_size, nothing=0, dead=-1, apple=1)\n",
    "memory = ReplayMemory(1000)  \n",
    "optimizer = torch.optim.Adam(model.parameters(), lr = 1e-5)"
   ]
  },
  {
   "cell_type": "code",
   "execution_count": 7,
   "metadata": {
    "ExecuteTime": {
     "end_time": "2023-12-17T22:47:27.988868Z",
     "start_time": "2023-12-17T22:47:27.887184Z"
    }
   },
   "outputs": [],
   "source": [
    "def run_episode(num_games):\n",
    "    run = True\n",
    "    games_played = 0\n",
    "    total_reward = 0    \n",
    "    episode_games = 0\n",
    "    snake_len_array = []\n",
    "    \n",
    "    while run:\n",
    "        # TODO: Get state\n",
    "        state = get_network_input(board.snake, board.apple)\n",
    "        \n",
    "        action_0 = model(state)\n",
    "        \n",
    "        # TODO: Compare a random number with epsilon and find out the next action\n",
    "        if np.random.rand() < epsilon:\n",
    "            next_action = np.random.choice([0, 1, 2, 3])\n",
    "        else:\n",
    "            next_action = torch.argmax(action_0)\n",
    "\n",
    "        reward, done, len_of_snake = board.update_board_state(next_action)\n",
    "        \n",
    "        # TODO: Get next state\n",
    "        next_state = get_network_input(board.snake, board.apple)\n",
    "        \n",
    "        memory.push(state, next_action, reward, next_state, done)\n",
    "        \n",
    "        # TODO: update total reward\n",
    "        total_reward += reward\n",
    "        \n",
    "        episode_games += 1\n",
    "        \n",
    "        if board.game_over:\n",
    "            games_played += 1\n",
    "            snake_len_array.append(len_of_snake)\n",
    "            board.reset_game()\n",
    "            \n",
    "            if num_games == games_played:\n",
    "                run = False\n",
    "                \n",
    "    avg_len_of_snake = np.mean(snake_len_array)\n",
    "    max_len_of_snake = np.max(snake_len_array)\n",
    "    return total_reward, avg_len_of_snake, max_len_of_snake"
   ]
  },
  {
   "cell_type": "code",
   "execution_count": 8,
   "metadata": {
    "ExecuteTime": {
     "end_time": "2023-12-17T22:47:30.466809Z",
     "start_time": "2023-12-17T22:47:30.364775Z"
    }
   },
   "outputs": [],
   "source": [
    "MSE = nn.MSELoss()\n",
    "def learn(num_updates, batch_size):\n",
    "    \n",
    "    total_loss = 0\n",
    "    \n",
    "    for i in range(num_updates):\n",
    "\n",
    "        optimizer.zero_grad()\n",
    "        sample = memory.sample(batch_size)\n",
    "            \n",
    "        states, actions, rewards, next_states, dones = sample\n",
    "        states = torch.cat([x.unsqueeze(0) for x in states], dim=0) \n",
    "        actions = torch.LongTensor(actions) \n",
    "        rewards = torch.FloatTensor(rewards) \n",
    "        next_states = torch.cat([x.unsqueeze(0) for x in next_states]) \n",
    "        dones = torch.FloatTensor(dones) \n",
    "        \n",
    "        # TODO: Get Q values for current state\n",
    "        q_local = model.forward(states)\n",
    "        \n",
    "        # TODO: Get Q values for next state\n",
    "        next_q_value = model.forward(next_states)\n",
    "\n",
    "        Q_expected  = q_local.gather(1, actions.unsqueeze(0).transpose(0,1)).transpose(0,1).squeeze(0)  \n",
    "        \n",
    "        Q_targets_next = torch.max(next_q_value, 1)[0]*(torch.ones(dones.size()) - dones)\n",
    "        \n",
    "        # TODO: Calculate Q targets for current state\n",
    "        Q_targets  = rewards + GAMMA * Q_target_next\n",
    "        \n",
    "        loss = MSE(Q_expected, Q_targets)\n",
    "        \n",
    "        total_loss += loss\n",
    "        loss.backward()\n",
    "        optimizer.step()\n",
    "        \n",
    "    return total_loss"
   ]
  },
  {
   "cell_type": "code",
   "execution_count": 6,
   "metadata": {
    "ExecuteTime": {
     "end_time": "2023-12-17T23:15:36.671532Z",
     "start_time": "2023-12-17T22:53:57.758768Z"
    }
   },
   "outputs": [
    {
     "name": "stdout",
     "output_type": "stream",
     "text": [
      "Ep.:    100, Loss: 1.361, Avg.Score: -28.00, Avg.LenOfSnake: 5.07, Max.LenOfSnake:  6.00 Time: 00:01:09 \n",
      "Ep.:    200, Loss: 3.905, Avg.Score: -27.00, Avg.LenOfSnake: 5.10, Max.LenOfSnake:  6.00 Time: 00:02:25 \n",
      "Ep.:    300, Loss: 1.289, Avg.Score: -30.00, Avg.LenOfSnake: 5.00, Max.LenOfSnake:  5.00 Time: 00:03:32 \n",
      "Ep.:    400, Loss: 1.495, Avg.Score: -29.00, Avg.LenOfSnake: 5.03, Max.LenOfSnake:  6.00 Time: 00:04:39 \n",
      "Ep.:    500, Loss: 1.107, Avg.Score: -26.00, Avg.LenOfSnake: 5.13, Max.LenOfSnake:  6.00 Time: 00:05:50 \n",
      "Ep.:    600, Loss: 0.978, Avg.Score: -30.00, Avg.LenOfSnake: 5.00, Max.LenOfSnake:  5.00 Time: 00:06:58 \n",
      "Ep.:    700, Loss: 0.974, Avg.Score: -29.00, Avg.LenOfSnake: 5.03, Max.LenOfSnake:  6.00 Time: 00:08:09 \n",
      "Ep.:    800, Loss: 2.335, Avg.Score: -28.00, Avg.LenOfSnake: 5.07, Max.LenOfSnake:  6.00 Time: 00:09:17 \n",
      "Ep.:    900, Loss: 1.181, Avg.Score: -30.00, Avg.LenOfSnake: 5.00, Max.LenOfSnake:  5.00 Time: 00:10:27 \n",
      "Ep.:   1000, Loss: 0.642, Avg.Score: -28.00, Avg.LenOfSnake: 5.07, Max.LenOfSnake:  6.00 Time: 00:11:38 \n",
      "Ep.:   1100, Loss: 2.161, Avg.Score: -26.00, Avg.LenOfSnake: 5.13, Max.LenOfSnake:  6.00 Time: 00:12:53 \n",
      "Ep.:   1200, Loss: 0.932, Avg.Score: -30.00, Avg.LenOfSnake: 5.00, Max.LenOfSnake:  5.00 Time: 00:14:10 \n",
      "Ep.:   1300, Loss: 2.041, Avg.Score: -29.00, Avg.LenOfSnake: 5.03, Max.LenOfSnake:  6.00 Time: 00:15:17 \n",
      "Ep.:   1400, Loss: 1.991, Avg.Score: -29.00, Avg.LenOfSnake: 5.03, Max.LenOfSnake:  6.00 Time: 00:16:31 \n",
      "Ep.:   1500, Loss: 2.283, Avg.Score: -29.00, Avg.LenOfSnake: 5.03, Max.LenOfSnake:  6.00 Time: 00:17:47 \n",
      "Ep.:   1600, Loss: 1.966, Avg.Score: -28.00, Avg.LenOfSnake: 5.07, Max.LenOfSnake:  6.00 Time: 00:18:59 \n",
      "Ep.:   1700, Loss: 0.393, Avg.Score: -30.00, Avg.LenOfSnake: 5.00, Max.LenOfSnake:  5.00 Time: 00:20:06 \n",
      "Ep.:   1800, Loss: 1.067, Avg.Score: -30.00, Avg.LenOfSnake: 5.00, Max.LenOfSnake:  5.00 Time: 00:21:12 \n",
      "Ep.:   1900, Loss: 1.412, Avg.Score: -30.00, Avg.LenOfSnake: 5.00, Max.LenOfSnake:  5.00 Time: 00:22:20 \n",
      "Ep.:   2000, Loss: 1.473, Avg.Score: -30.00, Avg.LenOfSnake: 5.00, Max.LenOfSnake:  5.00 Time: 00:23:30 \n",
      "Ep.:   2100, Loss: 1.476, Avg.Score: -29.00, Avg.LenOfSnake: 5.03, Max.LenOfSnake:  6.00 Time: 00:24:39 \n",
      "Ep.:   2200, Loss: 0.742, Avg.Score: -30.00, Avg.LenOfSnake: 5.00, Max.LenOfSnake:  5.00 Time: 00:25:48 \n"
     ]
    },
    {
     "ename": "KeyboardInterrupt",
     "evalue": "",
     "output_type": "error",
     "traceback": [
      "\u001b[1;31m---------------------------------------------------------------------------\u001b[0m",
      "\u001b[1;31mKeyboardInterrupt\u001b[0m                         Traceback (most recent call last)",
      "Input \u001b[1;32mIn [6]\u001b[0m, in \u001b[0;36m<cell line: 50>\u001b[1;34m()\u001b[0m\n\u001b[0;32m     47\u001b[0m     \u001b[38;5;28;01mreturn\u001b[39;00m scores_array, avg_scores_array, avg_len_array, avg_max_len_array    \n\u001b[0;32m     49\u001b[0m \u001b[38;5;66;03m# TODO: Train the model\u001b[39;00m\n\u001b[1;32m---> 50\u001b[0m scores, avg_scores, avg_len_of_snake, max_len_of_snake \u001b[38;5;241m=\u001b[39m \u001b[43mtrain\u001b[49m\u001b[43m(\u001b[49m\u001b[43m)\u001b[49m\n",
      "Input \u001b[1;32mIn [6]\u001b[0m, in \u001b[0;36mtrain\u001b[1;34m()\u001b[0m\n\u001b[0;32m     17\u001b[0m time_start \u001b[38;5;241m=\u001b[39m time\u001b[38;5;241m.\u001b[39mtime()\n\u001b[0;32m     20\u001b[0m \u001b[38;5;28;01mfor\u001b[39;00m i_episode \u001b[38;5;129;01min\u001b[39;00m \u001b[38;5;28mrange\u001b[39m(num_episodes\u001b[38;5;241m+\u001b[39m\u001b[38;5;241m1\u001b[39m):\n\u001b[0;32m     21\u001b[0m     \n\u001b[0;32m     22\u001b[0m     \u001b[38;5;66;03m# TODO: Run an episode\u001b[39;00m\n\u001b[1;32m---> 23\u001b[0m     score, avg_len, max_len \u001b[38;5;241m=\u001b[39m \u001b[43mrun_episode\u001b[49m\u001b[43m(\u001b[49m\u001b[43mgames_in_episode\u001b[49m\u001b[43m)\u001b[49m\n\u001b[0;32m     25\u001b[0m     scores_deque\u001b[38;5;241m.\u001b[39mappend(score)\n\u001b[0;32m     26\u001b[0m     scores_array\u001b[38;5;241m.\u001b[39mappend(score)\n",
      "Input \u001b[1;32mIn [3]\u001b[0m, in \u001b[0;36mrun_episode\u001b[1;34m(num_games)\u001b[0m\n\u001b[0;32m      6\u001b[0m snake_len_array \u001b[38;5;241m=\u001b[39m []\n\u001b[0;32m      8\u001b[0m \u001b[38;5;28;01mwhile\u001b[39;00m run:\n\u001b[0;32m      9\u001b[0m     \u001b[38;5;66;03m# TODO: Get state\u001b[39;00m\n\u001b[1;32m---> 10\u001b[0m     state \u001b[38;5;241m=\u001b[39m \u001b[43mget_network_input\u001b[49m\u001b[43m(\u001b[49m\u001b[43mboard\u001b[49m\u001b[38;5;241;43m.\u001b[39;49m\u001b[43msnake\u001b[49m\u001b[43m,\u001b[49m\u001b[43m \u001b[49m\u001b[43mboard\u001b[49m\u001b[38;5;241;43m.\u001b[39;49m\u001b[43mapple\u001b[49m\u001b[43m)\u001b[49m\n\u001b[0;32m     12\u001b[0m     action_0 \u001b[38;5;241m=\u001b[39m model(state)\n\u001b[0;32m     14\u001b[0m     \u001b[38;5;66;03m# TODO: Compare a random number with epsilon and find out the next action\u001b[39;00m\n",
      "File \u001b[1;32m~\\jupyter notebooks\\Bonus-Project-main\\Student-Version\\model.py:24\u001b[0m, in \u001b[0;36mget_network_input\u001b[1;34m(player, apple)\u001b[0m\n\u001b[0;32m     22\u001b[0m \u001b[38;5;28;01mdef\u001b[39;00m \u001b[38;5;21mget_network_input\u001b[39m(player, apple):\n\u001b[0;32m     23\u001b[0m     proximity \u001b[38;5;241m=\u001b[39m player\u001b[38;5;241m.\u001b[39mget_proximity()\n\u001b[1;32m---> 24\u001b[0m     x \u001b[38;5;241m=\u001b[39m torch\u001b[38;5;241m.\u001b[39mcat([\u001b[43mtorch\u001b[49m\u001b[38;5;241;43m.\u001b[39;49m\u001b[43mfrom_numpy\u001b[49m\u001b[43m(\u001b[49m\u001b[43mplayer\u001b[49m\u001b[38;5;241;43m.\u001b[39;49m\u001b[43mpos\u001b[49m\u001b[43m)\u001b[49m\u001b[38;5;241;43m.\u001b[39;49m\u001b[43mdouble\u001b[49m\u001b[43m(\u001b[49m\u001b[43m)\u001b[49m, torch\u001b[38;5;241m.\u001b[39mfrom_numpy(apple\u001b[38;5;241m.\u001b[39mpos)\u001b[38;5;241m.\u001b[39mdouble(),\n\u001b[0;32m     25\u001b[0m                    torch\u001b[38;5;241m.\u001b[39mfrom_numpy(player\u001b[38;5;241m.\u001b[39mdir)\u001b[38;5;241m.\u001b[39mdouble(), torch\u001b[38;5;241m.\u001b[39mtensor(proximity)\u001b[38;5;241m.\u001b[39mdouble()])\n\u001b[0;32m     26\u001b[0m     \u001b[38;5;28;01mreturn\u001b[39;00m x\n",
      "\u001b[1;31mKeyboardInterrupt\u001b[0m: "
     ]
    }
   ],
   "source": [
    "num_episodes = 3000 \n",
    "num_updates = 200 \n",
    "print_every = 100\n",
    "games_in_episode = 30\n",
    "batch_size = 20\n",
    "\n",
    "\n",
    "def train():\n",
    "    \n",
    "    scores_deque = deque(maxlen=100)\n",
    "    scores_array = []\n",
    "    avg_scores_array = []    \n",
    "    \n",
    "    avg_len_array = []\n",
    "    avg_max_len_array = []\n",
    "    \n",
    "    time_start = time.time()\n",
    "    \n",
    "    \n",
    "    for i_episode in range(num_episodes+1):\n",
    "        \n",
    "        # TODO: Run an episode\n",
    "        score, avg_len, max_len = run_episode(games_in_episode)\n",
    "        \n",
    "        scores_deque.append(score)\n",
    "        scores_array.append(score)\n",
    "        avg_len_array.append(avg_len)\n",
    "        avg_max_len_array.append(max_len)\n",
    "        \n",
    "        avg_score = np.mean(scores_deque)\n",
    "        avg_scores_array.append(avg_score)\n",
    "        \n",
    "        # TODO: Learn from the episode\n",
    "        total_loss = learn(num_updates, batch_size)\n",
    "        \n",
    "        dt = (int)(time.time() - time_start)\n",
    "        \n",
    "        if i_episode % print_every == 0 and i_episode > 0:\n",
    "            print('Ep.: {:6}, Loss: {:.3f}, Avg.Score: {:.2f}, Avg.LenOfSnake: {:.2f}, Max.LenOfSnake:  {:.2f} Time: {:02}:{:02}:{:02} '.\\\n",
    "                  format(i_episode, total_loss, score, avg_len, max_len, dt//3600, dt%3600//60, dt%60))\n",
    "            \n",
    "        memory.truncate()\n",
    "        \n",
    "        if i_episode % 250 == 0 and i_episode > 0:   \n",
    "            torch.save(model.state_dict(), './model/Snake_{}'.format(i_episode))\n",
    "            \n",
    "    return scores_array, avg_scores_array, avg_len_array, avg_max_len_array    \n",
    "\n",
    "# TODO: Train the model\n",
    "scores, avg_scores, avg_len_of_snake, max_len_of_snake = train()"
   ]
  },
  {
   "cell_type": "code",
   "execution_count": 30,
   "metadata": {
    "ExecuteTime": {
     "end_time": "2023-12-17T23:20:09.052807Z",
     "start_time": "2023-12-17T23:20:08.500986Z"
    }
   },
   "outputs": [
    {
     "ename": "NameError",
     "evalue": "name 'scores' is not defined",
     "output_type": "error",
     "traceback": [
      "\u001b[1;31m---------------------------------------------------------------------------\u001b[0m",
      "\u001b[1;31mNameError\u001b[0m                                 Traceback (most recent call last)",
      "Input \u001b[1;32mIn [30]\u001b[0m, in \u001b[0;36m<cell line: 4>\u001b[1;34m()\u001b[0m\n\u001b[0;32m      1\u001b[0m \u001b[38;5;28;01mimport\u001b[39;00m \u001b[38;5;21;01mmatplotlib\u001b[39;00m\u001b[38;5;21;01m.\u001b[39;00m\u001b[38;5;21;01mpyplot\u001b[39;00m \u001b[38;5;28;01mas\u001b[39;00m \u001b[38;5;21;01mplt\u001b[39;00m\n\u001b[0;32m      2\u001b[0m get_ipython()\u001b[38;5;241m.\u001b[39mrun_line_magic(\u001b[38;5;124m'\u001b[39m\u001b[38;5;124mmatplotlib\u001b[39m\u001b[38;5;124m'\u001b[39m, \u001b[38;5;124m'\u001b[39m\u001b[38;5;124minline\u001b[39m\u001b[38;5;124m'\u001b[39m)\n\u001b[1;32m----> 4\u001b[0m \u001b[38;5;28mprint\u001b[39m(\u001b[38;5;124m'\u001b[39m\u001b[38;5;124mlength of scores: \u001b[39m\u001b[38;5;124m'\u001b[39m, \u001b[38;5;28mlen\u001b[39m(\u001b[43mscores\u001b[49m), \u001b[38;5;124m'\u001b[39m\u001b[38;5;124m, len of avg_scores: \u001b[39m\u001b[38;5;124m'\u001b[39m, \u001b[38;5;28mlen\u001b[39m(avg_scores))\n\u001b[0;32m      6\u001b[0m fig \u001b[38;5;241m=\u001b[39m plt\u001b[38;5;241m.\u001b[39mfigure()\n\u001b[0;32m      7\u001b[0m ax \u001b[38;5;241m=\u001b[39m fig\u001b[38;5;241m.\u001b[39madd_subplot(\u001b[38;5;241m111\u001b[39m)\n",
      "\u001b[1;31mNameError\u001b[0m: name 'scores' is not defined"
     ]
    }
   ],
   "source": [
    "import matplotlib.pyplot as plt\n",
    "%matplotlib inline\n",
    "\n",
    "print('length of scores: ', len(scores), ', len of avg_scores: ', len(avg_scores))\n",
    "\n",
    "fig = plt.figure()\n",
    "ax = fig.add_subplot(111)\n",
    "plt.plot(np.arange(1, len(scores)+1), scores, label=\"Score\")\n",
    "plt.plot(np.arange(1, len(avg_scores)+1), avg_scores, label=\"Avg score on 100 episodes\")\n",
    "plt.legend(bbox_to_anchor=(1.05, 1)) \n",
    "plt.ylabel('Score')\n",
    "plt.xlabel('Episodes #')\n",
    "plt.show()"
   ]
  },
  {
   "cell_type": "code",
   "execution_count": null,
   "metadata": {
    "ExecuteTime": {
     "end_time": "2023-12-17T23:20:19.810286Z",
     "start_time": "2023-12-17T23:20:19.414789Z"
    }
   },
   "outputs": [],
   "source": [
    "ax1 = fig.add_subplot(121)\n",
    "plt.plot(np.arange(1, len(avg_len_of_snake)+1), avg_len_of_snake, label=\"Avg Len of Snake\")\n",
    "plt.plot(np.arange(1, len(max_len_of_snake)+1), max_len_of_snake, label=\"Max Len of Snake\")\n",
    "plt.legend(bbox_to_anchor=(1.05, 1)) \n",
    "plt.ylabel('Length of Snake')\n",
    "plt.xlabel('Episodes #')\n",
    "plt.show()"
   ]
  }
 ],
 "metadata": {
  "kernelspec": {
   "display_name": "Python 3 (ipykernel)",
   "language": "python",
   "name": "python3"
  },
  "language_info": {
   "codemirror_mode": {
    "name": "ipython",
    "version": 3
   },
   "file_extension": ".py",
   "mimetype": "text/x-python",
   "name": "python",
   "nbconvert_exporter": "python",
   "pygments_lexer": "ipython3",
   "version": "3.10.5"
  }
 },
 "nbformat": 4,
 "nbformat_minor": 2
}
